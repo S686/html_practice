{
 "cells": [
  {
   "cell_type": "markdown",
   "id": "22e302e2",
   "metadata": {},
   "source": [
    "### 웹브라우저 객체\n",
    "- window : 전역객체 : 모든 전역 변수를 저장하는 객체\n",
    "- location : URL 데이터를 저장하는 객체\n",
    "- document : 현재 페이지에 대한 문서 정보를 저장하는 객체"
   ]
  },
  {
   "cell_type": "markdown",
   "id": "27cfc0d0",
   "metadata": {},
   "source": [
    "### javascript를 이용한 element 선택\n",
    "- 아이디\n",
    "- 클래스\n",
    "- 속성값\n",
    "- 태그\n",
    "- 셀렉터 : document.querySelector()"
   ]
  },
  {
   "cell_type": "code",
   "execution_count": 3,
   "id": "da0c73ee",
   "metadata": {},
   "outputs": [
    {
     "data": {
      "text/html": [
       "<p class='kt-txt'>KT Javascript!</p>\n",
       "<script>\n",
       "    var element = document.querySelector('.kt-txt');\n",
       "    console.log(element);\n",
       "</script>\n"
      ],
      "text/plain": [
       "<IPython.core.display.HTML object>"
      ]
     },
     "metadata": {},
     "output_type": "display_data"
    }
   ],
   "source": [
    "%%html\n",
    "<p class='kt-txt'>KT Javascript!</p>\n",
    "<script>\n",
    "    var element = document.querySelector('.kt-txt');\n",
    "    console.log(element);\n",
    "</script>"
   ]
  },
  {
   "cell_type": "markdown",
   "id": "cd509bbb",
   "metadata": {},
   "source": [
    "### jQuery\n",
    "- javascript의 객체 선택과 기능들을 쉽게 사용할 수 있도록 제공하는 프레임워크\n",
    "- 장점\n",
    "    - 이벤트 핸들링 편리 : 클릭, 포커스, 숨기기 ...\n",
    "    - Dom(document) 수정 편리\n",
    "    - Ajax 통신 편리"
   ]
  },
  {
   "cell_type": "code",
   "execution_count": 8,
   "id": "d91736ef",
   "metadata": {},
   "outputs": [
    {
     "data": {
      "text/html": [
       "<button class='kt-btn'>click</button>\n",
       "<script>\n",
       "    var obj = document.querySelector('.kt-btn');\n",
       "    obj.addEventListener('click', function(){\n",
       "        alert('KT');\n",
       "    })\n",
       "</script>\n"
      ],
      "text/plain": [
       "<IPython.core.display.HTML object>"
      ]
     },
     "metadata": {},
     "output_type": "display_data"
    }
   ],
   "source": [
    "%%html\n",
    "<button class='kt-btn'>click</button>\n",
    "<script>\n",
    "    var obj = document.querySelector('.kt-btn');\n",
    "    obj.addEventListener('click', function(){\n",
    "        alert('KT');\n",
    "    })\n",
    "</script>"
   ]
  },
  {
   "cell_type": "code",
   "execution_count": 19,
   "id": "c0d705ba",
   "metadata": {
    "scrolled": true
   },
   "outputs": [
    {
     "data": {
      "text/html": [
       "<p class='kt-txt'>KT</p>\n",
       "<button class='kt-btn1'>hide</button>\n",
       "<button class='kt-btn2'>show</button>\n",
       "<script src='https://cdnjs.cloudflare.com/ajax/libs/jquery/3.6.4/jquery.min.js'></script>\n",
       "<script>    \n",
       "    $('.kt-btn1').on('click', function(){\n",
       "        $('.kt-txt').hide(1000);\n",
       "    })\n",
       "    $('.kt-btn2').on('click', function(){\n",
       "        $('.kt-txt').show(1000);\n",
       "    })\n",
       "</script>\n"
      ],
      "text/plain": [
       "<IPython.core.display.HTML object>"
      ]
     },
     "metadata": {},
     "output_type": "display_data"
    }
   ],
   "source": [
    "%%html\n",
    "<p class='kt-txt'>KT</p>\n",
    "<button class='kt-btn1'>hide</button>\n",
    "<button class='kt-btn2'>show</button>\n",
    "<script src='https://cdnjs.cloudflare.com/ajax/libs/jquery/3.6.4/jquery.min.js'></script>\n",
    "<script>    \n",
    "    $('.kt-btn1').on('click', function(){\n",
    "        $('.kt-txt').hide(1000);\n",
    "    })\n",
    "    $('.kt-btn2').on('click', function(){\n",
    "        $('.kt-txt').show(1000);\n",
    "    })\n",
    "</script>"
   ]
  },
  {
   "cell_type": "code",
   "execution_count": 21,
   "id": "4d4c8517",
   "metadata": {},
   "outputs": [
    {
     "data": {
      "text/html": [
       "<input type='text' class='addr' value='논현동'>\n",
       "<button class='addr-btn'>Search</button>\n",
       "<script src='https://cdnjs.cloudflare.com/ajax/libs/jquery/3.6.4/jquery.min.js'></script>\n",
       "<script>\n",
       "    $('.addr-btn').on('click', function(){\n",
       "        var addr = $('.addr').val();\n",
       "        var url = 'https://apis.zigbang.com/v2/search?leaseYn=N&q=' + addr + '&serviceType=원룸'\n",
       "        $.getJSON(url, function(response){\n",
       "            console.log(response);\n",
       "        })\n",
       "    })\n",
       "</script>\n"
      ],
      "text/plain": [
       "<IPython.core.display.HTML object>"
      ]
     },
     "metadata": {},
     "output_type": "display_data"
    }
   ],
   "source": [
    "%%html\n",
    "<input type='text' class='addr' value='논현동'>\n",
    "<button class='addr-btn'>Search</button>\n",
    "<script src='https://cdnjs.cloudflare.com/ajax/libs/jquery/3.6.4/jquery.min.js'></script>\n",
    "<script>\n",
    "    $('.addr-btn').on('click', function(){\n",
    "        var addr = $('.addr').val();\n",
    "        var url = 'https://apis.zigbang.com/v2/search?leaseYn=N&q=' + addr + '&serviceType=원룸'\n",
    "        $.getJSON(url, function(response){\n",
    "            console.log(response);\n",
    "        })\n",
    "    })\n",
    "</script>"
   ]
  }
 ],
 "metadata": {
  "kernelspec": {
   "display_name": "Python 3 (ipykernel)",
   "language": "python",
   "name": "python3"
  },
  "language_info": {
   "codemirror_mode": {
    "name": "ipython",
    "version": 3
   },
   "file_extension": ".py",
   "mimetype": "text/x-python",
   "name": "python",
   "nbconvert_exporter": "python",
   "pygments_lexer": "ipython3",
   "version": "3.9.12"
  }
 },
 "nbformat": 4,
 "nbformat_minor": 5
}
